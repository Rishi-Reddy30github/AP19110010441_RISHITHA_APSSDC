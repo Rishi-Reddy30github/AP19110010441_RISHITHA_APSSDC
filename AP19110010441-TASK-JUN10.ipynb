{
 "cells": [
  {
   "cell_type": "markdown",
   "metadata": {},
   "source": [
    "### TASK\n",
    " \n",
    " * Take input from the user\n",
    " \n",
    " *check the length of the string even or odd\n",
    "\n",
    " *if the string length is odd access one middle character\n",
    "\n",
    " *If the string length is even access two middle characters"
   ]
  },
  {
   "cell_type": "code",
   "execution_count": 20,
   "metadata": {},
   "outputs": [
    {
     "name": "stdout",
     "output_type": "stream",
     "text": [
      "Enter any string\n",
      "12345\n",
      "string length is ODD\n",
      "The one middle character is 3\n"
     ]
    }
   ],
   "source": [
    "s = input(\"Enter any string\\n\")\n",
    "size =len(s)\n",
    "\n",
    "if len(s)%2==0:\n",
    "    print(\"string lenth is EVEN\")\n",
    "else:\n",
    "    print(\"string length is ODD\")\n",
    "\n",
    "s1=size//2\n",
    "\n",
    "if size%2==0:\n",
    "    print(\"The two midddle characters are\",s[s1-1:s1+1])\n",
    "    \n",
    "else:\n",
    "    print(\"The one middle character is\",s[s1])\n"
   ]
  },
  {
   "cell_type": "code",
   "execution_count": null,
   "metadata": {},
   "outputs": [],
   "source": []
  }
 ],
 "metadata": {
  "kernelspec": {
   "display_name": "Python 3",
   "language": "python",
   "name": "python3"
  },
  "language_info": {
   "codemirror_mode": {
    "name": "ipython",
    "version": 3
   },
   "file_extension": ".py",
   "mimetype": "text/x-python",
   "name": "python",
   "nbconvert_exporter": "python",
   "pygments_lexer": "ipython3",
   "version": "3.7.3"
  }
 },
 "nbformat": 4,
 "nbformat_minor": 2
}
