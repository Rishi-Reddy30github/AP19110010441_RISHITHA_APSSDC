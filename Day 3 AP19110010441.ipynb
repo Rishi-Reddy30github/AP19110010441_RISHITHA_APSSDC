{
 "cells": [
  {
   "cell_type": "markdown",
   "metadata": {},
   "source": [
    "TASK:\n",
    "\n",
    "1. Take last 3 values of roll number\n",
    "    a) If the value startswith \"01\" ---> \"Cse dept\"\n",
    "    b)elif the value startswith \"11\" ---> \"It dept\"\n",
    "    c)elif the value startswith \"21\" ---> \"Ece dept\"\n",
    "    d)else not a student of Srm University\n",
    "\n",
    "\n",
    "\n"
   ]
  },
  {
   "cell_type": "code",
   "execution_count": 10,
   "metadata": {},
   "outputs": [
    {
     "name": "stdout",
     "output_type": "stream",
     "text": [
      "Enter Roll No: 191100213\n",
      "this number belong to ECE Dept.\n"
     ]
    }
   ],
   "source": [
    "# Program 1\n",
    "\n",
    "str1=input(\"Enter Roll No: \")\n",
    "\n",
    "if str1[-3:].startswith(\"01\"):\n",
    "    print(\"this number belong to CSE Dept.\")\n",
    "elif str1[-3:].startswith(\"11\"):\n",
    "    print(\"this number belong to IT Dept.\")\n",
    "elif str1[-3:].startswith(\"21\"):\n",
    "    print(\"this number belong to ECE Dept.\")\n",
    "else:\n",
    "    print(\" not an SRM student.\")"
   ]
  }
 ],
 "metadata": {
  "kernelspec": {
   "display_name": "Python 3",
   "language": "python",
   "name": "python3"
  },
  "language_info": {
   "codemirror_mode": {
    "name": "ipython",
    "version": 3
   },
   "file_extension": ".py",
   "mimetype": "text/x-python",
   "name": "python",
   "nbconvert_exporter": "python",
   "pygments_lexer": "ipython3",
   "version": "3.7.3"
  }
 },
 "nbformat": 4,
 "nbformat_minor": 2
}
