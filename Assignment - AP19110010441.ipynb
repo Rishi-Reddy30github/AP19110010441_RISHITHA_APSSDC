{
 "cells": [
  {
   "cell_type": "markdown",
   "metadata": {},
   "source": [
    "#TASK\n",
    "\n",
    "RISHITHA CHILUKURI\n",
    "AP19110010441\n",
    "\n",
    "1. Program to check whether a user is eligible to vote or not\n",
    "2. Check the given number is positive or negative\n",
    "3. Check the given number is even or odd and if its even check whether it is divisible by 4 or not\n",
    "4. Write a program to print student grade based on percentage like Distinction, pass or fail.\n",
    "5. Check whether the given year is leap year or not.\n"
   ]
  },
  {
   "cell_type": "code",
   "execution_count": 2,
   "metadata": {},
   "outputs": [
    {
     "name": "stdout",
     "output_type": "stream",
     "text": [
      "Enter Your age: 13\n",
      "You are not eligible to vote\n"
     ]
    }
   ],
   "source": [
    "# Program 1\n",
    "\n",
    "age=int(input(\"Enter Your age: \"))\n",
    "\n",
    "if(age>=18):\n",
    "    print(\"You are eligible to vote\")\n",
    "else:\n",
    "    print(\"You are not eligible to vote\")"
   ]
  },
  {
   "cell_type": "code",
   "execution_count": 3,
   "metadata": {},
   "outputs": [
    {
     "name": "stdout",
     "output_type": "stream",
     "text": [
      "Enter any number: 2\n",
      "Given number '2' is positive\n"
     ]
    }
   ],
   "source": [
    "# Program 2\n",
    "\n",
    "num=int(input(\"Enter any number: \"))\n",
    "\n",
    "if num>0:\n",
    "    print(\"Given number '{}' is positive\".format(num))\n",
    "elif num==0:\n",
    "    print(\"The given number is equal to zero.\")\n",
    "else:\n",
    "    print(\"Given number '{}' is negative\".format(num))"
   ]
  },
  {
   "cell_type": "code",
   "execution_count": 4,
   "metadata": {},
   "outputs": [
    {
     "name": "stdout",
     "output_type": "stream",
     "text": [
      "Enter any number: 12\n",
      "the given number '12' is even and divisible by 4\n"
     ]
    }
   ],
   "source": [
    "# Program 3\n",
    "\n",
    "num1=int(input(\"Enter any number: \"))\n",
    "if(num1%2==0):\n",
    "    if(num1%4==0):\n",
    "        print(\"the given number '{}' is even and divisible by 4\".format(num1))\n",
    "    else:\n",
    "        print(\"the given number '{}' is even and not divisble by 4\".format(num1))\n",
    "else:\n",
    "    print(\"the given number '{}' is odd\".format(num1))\n",
    "    "
   ]
  },
  {
   "cell_type": "code",
   "execution_count": 5,
   "metadata": {},
   "outputs": [
    {
     "name": "stdout",
     "output_type": "stream",
     "text": [
      "Enter Number of Subjects: 3\n",
      "Enter Marks of subject 1: 40\n",
      "Enter Marks of subject 2: 56\n",
      "Enter Marks of subject 3: 78\n",
      "57.99999999999999\n",
      "You just passed with 'E' Grade.\n"
     ]
    }
   ],
   "source": [
    "# Program 4\n",
    "\n",
    "subjects=int(input(\"Enter Number of Subjects: \"))\n",
    "sum1=0\n",
    "\n",
    "for i in range(subjects):\n",
    "    s=int(input(\"Enter Marks of subject {}: \".format(i+1)))\n",
    "    sum1=sum1+s\n",
    "\n",
    "per=(sum1/(subjects*100))*100\n",
    "print(per)\n",
    "\n",
    "if per>90.0:\n",
    "    print(\"You passed with Distinction\")\n",
    "elif per>80.0 and per<90.0:\n",
    "    print(\"You passed with 'B' Grade.\")\n",
    "elif per>70.0 and per<80.0:\n",
    "    print(\"You passed with 'C' Grade.\")\n",
    "elif per>60.0 and per<70.0:\n",
    "    print(\"You passed with 'D' Grade.\")\n",
    "elif per>45.0 and per<60.0:\n",
    "    print(\"You just passed with 'E' Grade.\")\n",
    "else:\n",
    "    print(\"You have failed the test, better luck next time\")"
   ]
  },
  {
   "cell_type": "code",
   "execution_count": 6,
   "metadata": {},
   "outputs": [
    {
     "name": "stdout",
     "output_type": "stream",
     "text": [
      "Enter a year: 2002\n",
      "The given year is not a leap year.\n"
     ]
    }
   ],
   "source": [
    "# Program 5\n",
    "\n",
    "year=int(input(\"Enter a year: \"))\n",
    "\n",
    "if year%4==0:\n",
    "    if year%100==0:\n",
    "        if year%400==0:\n",
    "            print(\"The given year is a leap year.\")\n",
    "        else:\n",
    "            print(\"The given year is not a leap year.\")\n",
    "    else:\n",
    "        print(\"The given year is a leap year\")\n",
    "else:\n",
    "    print(\"The given year is not a leap year.\")\n",
    "    \n"
   ]
  },
  {
   "cell_type": "code",
   "execution_count": null,
   "metadata": {},
   "outputs": [],
   "source": []
  }
 ],
 "metadata": {
  "kernelspec": {
   "display_name": "Python 3",
   "language": "python",
   "name": "python3"
  },
  "language_info": {
   "codemirror_mode": {
    "name": "ipython",
    "version": 3
   },
   "file_extension": ".py",
   "mimetype": "text/x-python",
   "name": "python",
   "nbconvert_exporter": "python",
   "pygments_lexer": "ipython3",
   "version": "3.7.3"
  }
 },
 "nbformat": 4,
 "nbformat_minor": 2
}
